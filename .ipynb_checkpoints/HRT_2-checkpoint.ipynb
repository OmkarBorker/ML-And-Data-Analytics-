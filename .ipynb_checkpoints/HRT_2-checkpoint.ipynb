{
 "cells": [
  {
   "cell_type": "code",
   "execution_count": 1,
   "id": "ecbc96aa",
   "metadata": {},
   "outputs": [],
   "source": [
    "import pandas as pd\n",
    "import numpy as np\n",
    "from sklearn.model_selection import train_test_split\n",
    "from sklearn.preprocessing import LabelEncoder, OneHotEncoder, StandardScaler\n",
    "from sklearn.linear_model import LogisticRegression\n",
    "from sklearn.metrics import accuracy_score, confusion_matrix\n",
    "import matplotlib.pyplot as plt"
   ]
  },
  {
   "cell_type": "code",
   "execution_count": 2,
   "id": "4b2ce813",
   "metadata": {},
   "outputs": [],
   "source": [
    "# Load dataset\n",
    "data = pd.read_csv('heart.csv')"
   ]
  },
  {
   "cell_type": "code",
   "execution_count": 3,
   "id": "12eae028",
   "metadata": {},
   "outputs": [
    {
     "name": "stdout",
     "output_type": "stream",
     "text": [
      "Age               0\n",
      "Sex               0\n",
      "ChestPainType     0\n",
      "RestingBP         0\n",
      "Cholesterol       0\n",
      "FastingBS         0\n",
      "RestingECG        0\n",
      "MaxHR             0\n",
      "ExerciseAngina    0\n",
      "Oldpeak           0\n",
      "ST_Slope          0\n",
      "HeartDisease      0\n",
      "dtype: int64\n",
      "              Age   RestingBP  Cholesterol   FastingBS       MaxHR  \\\n",
      "count  918.000000  918.000000   918.000000  918.000000  918.000000   \n",
      "mean    53.510893  132.396514   198.799564    0.233115  136.809368   \n",
      "std      9.432617   18.514154   109.384145    0.423046   25.460334   \n",
      "min     28.000000    0.000000     0.000000    0.000000   60.000000   \n",
      "25%     47.000000  120.000000   173.250000    0.000000  120.000000   \n",
      "50%     54.000000  130.000000   223.000000    0.000000  138.000000   \n",
      "75%     60.000000  140.000000   267.000000    0.000000  156.000000   \n",
      "max     77.000000  200.000000   603.000000    1.000000  202.000000   \n",
      "\n",
      "          Oldpeak  HeartDisease  \n",
      "count  918.000000    918.000000  \n",
      "mean     0.887364      0.553377  \n",
      "std      1.066570      0.497414  \n",
      "min     -2.600000      0.000000  \n",
      "25%      0.000000      0.000000  \n",
      "50%      0.600000      1.000000  \n",
      "75%      1.500000      1.000000  \n",
      "max      6.200000      1.000000  \n"
     ]
    }
   ],
   "source": [
    "# Check for missing values and outliers\n",
    "print(data.isnull().sum())\n",
    "print(data.describe())"
   ]
  },
  {
   "cell_type": "code",
   "execution_count": 4,
   "id": "f221ac52",
   "metadata": {},
   "outputs": [
    {
     "name": "stdout",
     "output_type": "stream",
     "text": [
      "   Age  Sex  RestingBP  Cholesterol  FastingBS  MaxHR  ExerciseAngina  \\\n",
      "0   40    1        140          289          0    172               0   \n",
      "1   49    0        160          180          0    156               0   \n",
      "2   37    1        130          283          0     98               0   \n",
      "3   48    0        138          214          0    108               1   \n",
      "4   54    1        150          195          0    122               0   \n",
      "\n",
      "   Oldpeak  HeartDisease  ChestPainType_ASY  ChestPainType_ATA  \\\n",
      "0      0.0             0                  0                  1   \n",
      "1      1.0             1                  0                  0   \n",
      "2      0.0             0                  0                  1   \n",
      "3      1.5             1                  1                  0   \n",
      "4      0.0             0                  0                  0   \n",
      "\n",
      "   ChestPainType_NAP  ChestPainType_TA  RestingECG_LVH  RestingECG_Normal  \\\n",
      "0                  0                 0               0                  1   \n",
      "1                  1                 0               0                  1   \n",
      "2                  0                 0               0                  0   \n",
      "3                  0                 0               0                  1   \n",
      "4                  1                 0               0                  1   \n",
      "\n",
      "   RestingECG_ST  ST_Slope_Down  ST_Slope_Flat  ST_Slope_Up  \n",
      "0              0              0              0            1  \n",
      "1              0              0              1            0  \n",
      "2              1              0              0            1  \n",
      "3              0              0              1            0  \n",
      "4              0              0              0            1  \n"
     ]
    }
   ],
   "source": [
    "# Convert categorical variables to numerical values\n",
    "le = LabelEncoder()\n",
    "data['Sex'] = le.fit_transform(data['Sex'])\n",
    "data['ExerciseAngina'] = le.fit_transform(data['ExerciseAngina'])\n",
    "cp_type = pd.get_dummies(data['ChestPainType'], prefix='ChestPainType')\n",
    "data = pd.concat([data, cp_type], axis=1)\n",
    "rest_ecg = pd.get_dummies(data['RestingECG'], prefix='RestingECG')\n",
    "data = pd.concat([data, rest_ecg], axis=1)\n",
    "st_slope = pd.get_dummies(data['ST_Slope'], prefix='ST_Slope')\n",
    "data = pd.concat([data, st_slope], axis=1)\n",
    "data.drop(['ChestPainType', 'RestingECG', 'ST_Slope'], axis=1, inplace=True])\n",
    "\n",
    "print(data.head())"
   ]
  },
  {
   "cell_type": "code",
   "execution_count": 5,
   "id": "8be0d095",
   "metadata": {},
   "outputs": [],
   "source": [
    "# Split into training and testing data\n",
    "X = data.drop('HeartDisease', axis=1)\n",
    "y = data['HeartDisease']\n",
    "X_train, X_test, y_train, y_test = train_test_split(X, y, test_size=0.2, random_state=42)"
   ]
  },
  {
   "cell_type": "code",
   "execution_count": 6,
   "id": "0c5e7c29",
   "metadata": {},
   "outputs": [
    {
     "name": "stdout",
     "output_type": "stream",
     "text": [
      "   Age  Sex  RestingBP  Cholesterol  FastingBS  MaxHR  ExerciseAngina  \\\n",
      "0   40    1        140          289          0    172               0   \n",
      "1   49    0        160          180          0    156               0   \n",
      "2   37    1        130          283          0     98               0   \n",
      "3   48    0        138          214          0    108               1   \n",
      "4   54    1        150          195          0    122               0   \n",
      "\n",
      "   Oldpeak  HeartDisease  ChestPainType_ASY  ChestPainType_ATA  \\\n",
      "0      0.0             0                  0                  1   \n",
      "1      1.0             1                  0                  0   \n",
      "2      0.0             0                  0                  1   \n",
      "3      1.5             1                  1                  0   \n",
      "4      0.0             0                  0                  0   \n",
      "\n",
      "   ChestPainType_NAP  ChestPainType_TA  RestingECG_LVH  RestingECG_Normal  \\\n",
      "0                  0                 0               0                  1   \n",
      "1                  1                 0               0                  1   \n",
      "2                  0                 0               0                  0   \n",
      "3                  0                 0               0                  1   \n",
      "4                  1                 0               0                  1   \n",
      "\n",
      "   RestingECG_ST  ST_Slope_Down  ST_Slope_Flat  ST_Slope_Up  \n",
      "0              0              0              0            1  \n",
      "1              0              0              1            0  \n",
      "2              1              0              0            1  \n",
      "3              0              0              1            0  \n",
      "4              0              0              0            1  \n",
      "(734, 18)\n"
     ]
    }
   ],
   "source": [
    "# Scale the numerical variables\n",
    "sc = StandardScaler()\n",
    "num_vars = ['Age', 'RestingBP', 'Cholesterol', 'MaxHR', 'Oldpeak']\n",
    "print(data.head())\n",
    "X_train[num_vars] = sc.fit_transform(X_train[num_vars])\n",
    "X_test[num_vars] = sc.transform(X_test[num_vars])\n",
    "print(X_train.shape)"
   ]
  },
  {
   "cell_type": "code",
   "execution_count": 7,
   "id": "52dad70c",
   "metadata": {},
   "outputs": [
    {
     "data": {
      "text/plain": [
       "LogisticRegression()"
      ]
     },
     "execution_count": 7,
     "metadata": {},
     "output_type": "execute_result"
    }
   ],
   "source": [
    "# Build logistic regression model\n",
    "model = LogisticRegression()\n",
    "model.fit(X_train, y_train)"
   ]
  },
  {
   "cell_type": "code",
   "execution_count": 8,
   "id": "4f20b088",
   "metadata": {},
   "outputs": [
    {
     "name": "stdout",
     "output_type": "stream",
     "text": [
      "Accuracy: 0.8532608695652174\n",
      "Confusion Matrix: [[67 10]\n",
      " [17 90]]\n"
     ]
    }
   ],
   "source": [
    "# Predict on test data and evaluate performance\n",
    "y_pred = model.predict(X_test)\n",
    "accuracy = accuracy_score(y_test, y_pred)\n",
    "confusion_mat = confusion_matrix(y_test, y_pred)\n",
    "print('Accuracy:', accuracy)\n",
    "print('Confusion Matrix:', confusion_mat)"
   ]
  },
  {
   "cell_type": "code",
   "execution_count": 9,
   "id": "b0334d94",
   "metadata": {
    "scrolled": false
   },
   "outputs": [
    {
     "name": "stdout",
     "output_type": "stream",
     "text": [
      "Best parameters: {'C': 4.281332398719396, 'penalty': 'l2'}\n"
     ]
    },
    {
     "name": "stderr",
     "output_type": "stream",
     "text": [
      "D:\\anaconda 3\\lib\\site-packages\\sklearn\\model_selection\\_validation.py:372: FitFailedWarning: \n",
      "100 fits failed out of a total of 200.\n",
      "The score on these train-test partitions for these parameters will be set to nan.\n",
      "If these failures are not expected, you can try to debug them by setting error_score='raise'.\n",
      "\n",
      "Below are more details about the failures:\n",
      "--------------------------------------------------------------------------------\n",
      "100 fits failed with the following error:\n",
      "Traceback (most recent call last):\n",
      "  File \"D:\\anaconda 3\\lib\\site-packages\\sklearn\\model_selection\\_validation.py\", line 680, in _fit_and_score\n",
      "    estimator.fit(X_train, y_train, **fit_params)\n",
      "  File \"D:\\anaconda 3\\lib\\site-packages\\sklearn\\linear_model\\_logistic.py\", line 1461, in fit\n",
      "    solver = _check_solver(self.solver, self.penalty, self.dual)\n",
      "  File \"D:\\anaconda 3\\lib\\site-packages\\sklearn\\linear_model\\_logistic.py\", line 447, in _check_solver\n",
      "    raise ValueError(\n",
      "ValueError: Solver lbfgs supports only 'l2' or 'none' penalties, got l1 penalty.\n",
      "\n",
      "  warnings.warn(some_fits_failed_message, FitFailedWarning)\n",
      "D:\\anaconda 3\\lib\\site-packages\\sklearn\\model_selection\\_search.py:969: UserWarning: One or more of the test scores are non-finite: [       nan 0.54632373        nan 0.55176591        nan 0.7520082\n",
      "        nan 0.81742615        nan 0.84329513        nan 0.85147703\n",
      "        nan 0.85827975        nan 0.85694716        nan 0.85967757\n",
      "        nan 0.8610288         nan 0.8610288         nan 0.86238934\n",
      "        nan 0.86238934        nan 0.86238934        nan 0.86238934\n",
      "        nan 0.86238934        nan 0.86238934        nan 0.86238934\n",
      "        nan 0.86238934        nan 0.86238934]\n",
      "  warnings.warn(\n"
     ]
    }
   ],
   "source": [
    "# Tuning hyperparameters using GridSearchCV\n",
    "from sklearn.model_selection import GridSearchCV\n",
    "\n",
    "parameters = {'C': np.logspace(-4, 4, 20), 'penalty': ['l1', 'l2']}\n",
    "grid_search = GridSearchCV(LogisticRegression(), parameters, cv=5, scoring='accuracy')\n",
    "grid_search.fit(X_train, y_train)\n",
    "print('Best parameters:', grid_search.best_params_)\n"
   ]
  },
  {
   "cell_type": "code",
   "execution_count": 10,
   "id": "38249486",
   "metadata": {},
   "outputs": [
    {
     "name": "stdout",
     "output_type": "stream",
     "text": [
      "0      0\n",
      "1      0\n",
      "2      0\n",
      "3      1\n",
      "4      0\n",
      "      ..\n",
      "913    0\n",
      "914    0\n",
      "915    1\n",
      "916    0\n",
      "917    0\n",
      "Name: ExerciseAngina, Length: 918, dtype: int32\n",
      "0      1\n",
      "1      0\n",
      "2      1\n",
      "3      0\n",
      "4      1\n",
      "      ..\n",
      "913    1\n",
      "914    1\n",
      "915    1\n",
      "916    0\n",
      "917    1\n",
      "Name: Sex, Length: 918, dtype: int32\n"
     ]
    }
   ],
   "source": [
    "print(data['ExerciseAngina'])\n",
    "print(data['Sex'])"
   ]
  },
  {
   "cell_type": "code",
   "execution_count": 14,
   "id": "cc7024ad",
   "metadata": {},
   "outputs": [
    {
     "name": "stdout",
     "output_type": "stream",
     "text": [
      "   Age  Sex  RestingBP  Cholesterol  FastingBS  MaxHR  ExerciseAngina  \\\n",
      "0   40    1        140          289          0    172               0   \n",
      "1   49    0        160          180          0    156               0   \n",
      "2   37    1        130          283          0     98               0   \n",
      "3   48    0        138          214          0    108               1   \n",
      "4   54    1        150          195          0    122               0   \n",
      "\n",
      "   Oldpeak  HeartDisease  ChestPainType_ASY  ChestPainType_ATA  \\\n",
      "0      0.0             0                  0                  1   \n",
      "1      1.0             1                  0                  0   \n",
      "2      0.0             0                  0                  1   \n",
      "3      1.5             1                  1                  0   \n",
      "4      0.0             0                  0                  0   \n",
      "\n",
      "   ChestPainType_NAP  ChestPainType_TA  RestingECG_LVH  RestingECG_Normal  \\\n",
      "0                  0                 0               0                  1   \n",
      "1                  1                 0               0                  1   \n",
      "2                  0                 0               0                  0   \n",
      "3                  0                 0               0                  1   \n",
      "4                  1                 0               0                  1   \n",
      "\n",
      "   RestingECG_ST  ST_Slope_Down  ST_Slope_Flat  ST_Slope_Up  \n",
      "0              0              0              0            1  \n",
      "1              0              0              1            0  \n",
      "2              1              0              0            1  \n",
      "3              0              0              1            0  \n",
      "4              0              0              0            1  \n",
      "        Age  Sex  RestingBP  Cholesterol  FastingBS     MaxHR  ExerciseAngina  \\\n",
      "0  0.678439    0   0.376415     0.927623          1 -0.639162               0   \n",
      "\n",
      "    Oldpeak  ChestPainType_ATA  RestingECG_Normal  ST_Slope_Flat  \n",
      "0  1.011777                  1                  1              1  \n"
     ]
    },
    {
     "name": "stderr",
     "output_type": "stream",
     "text": [
      "D:\\anaconda 3\\lib\\site-packages\\sklearn\\base.py:493: FutureWarning: The feature names should match those that were passed during fit. Starting version 1.2, an error will be raised.\n",
      "Feature names seen at fit time, yet now missing:\n",
      "- ChestPainType_ASY\n",
      "- ChestPainType_NAP\n",
      "- ChestPainType_TA\n",
      "- RestingECG_LVH\n",
      "- RestingECG_ST\n",
      "- ...\n",
      "\n",
      "  warnings.warn(message, FutureWarning)\n"
     ]
    },
    {
     "ename": "ValueError",
     "evalue": "X has 11 features, but LogisticRegression is expecting 18 features as input.",
     "output_type": "error",
     "traceback": [
      "\u001b[1;31m---------------------------------------------------------------------------\u001b[0m",
      "\u001b[1;31mValueError\u001b[0m                                Traceback (most recent call last)",
      "\u001b[1;32m~\\AppData\\Local\\Temp\\ipykernel_7660\\1627412823.py\u001b[0m in \u001b[0;36m<module>\u001b[1;34m\u001b[0m\n\u001b[0;32m     20\u001b[0m \u001b[0mprint\u001b[0m\u001b[1;33m(\u001b[0m\u001b[0mdata\u001b[0m\u001b[1;33m.\u001b[0m\u001b[0mhead\u001b[0m\u001b[1;33m(\u001b[0m\u001b[1;33m)\u001b[0m\u001b[1;33m)\u001b[0m\u001b[1;33m\u001b[0m\u001b[1;33m\u001b[0m\u001b[0m\n\u001b[0;32m     21\u001b[0m \u001b[0mprint\u001b[0m\u001b[1;33m(\u001b[0m\u001b[0mnew_patient\u001b[0m\u001b[1;33m.\u001b[0m\u001b[0mhead\u001b[0m\u001b[1;33m(\u001b[0m\u001b[1;33m)\u001b[0m\u001b[1;33m)\u001b[0m\u001b[1;33m\u001b[0m\u001b[1;33m\u001b[0m\u001b[0m\n\u001b[1;32m---> 22\u001b[1;33m \u001b[0mrisk\u001b[0m \u001b[1;33m=\u001b[0m \u001b[0mmodel\u001b[0m\u001b[1;33m.\u001b[0m\u001b[0mpredict\u001b[0m\u001b[1;33m(\u001b[0m\u001b[0mnew_patient\u001b[0m\u001b[1;33m)\u001b[0m\u001b[1;33m\u001b[0m\u001b[1;33m\u001b[0m\u001b[0m\n\u001b[0m\u001b[0;32m     23\u001b[0m \u001b[1;33m\u001b[0m\u001b[0m\n",
      "\u001b[1;32mD:\\anaconda 3\\lib\\site-packages\\sklearn\\linear_model\\_base.py\u001b[0m in \u001b[0;36mpredict\u001b[1;34m(self, X)\u001b[0m\n\u001b[0;32m    423\u001b[0m             \u001b[0mVector\u001b[0m \u001b[0mcontaining\u001b[0m \u001b[0mthe\u001b[0m \u001b[1;32mclass\u001b[0m \u001b[0mlabels\u001b[0m \u001b[1;32mfor\u001b[0m \u001b[0meach\u001b[0m \u001b[0msample\u001b[0m\u001b[1;33m.\u001b[0m\u001b[1;33m\u001b[0m\u001b[1;33m\u001b[0m\u001b[0m\n\u001b[0;32m    424\u001b[0m         \"\"\"\n\u001b[1;32m--> 425\u001b[1;33m         \u001b[0mscores\u001b[0m \u001b[1;33m=\u001b[0m \u001b[0mself\u001b[0m\u001b[1;33m.\u001b[0m\u001b[0mdecision_function\u001b[0m\u001b[1;33m(\u001b[0m\u001b[0mX\u001b[0m\u001b[1;33m)\u001b[0m\u001b[1;33m\u001b[0m\u001b[1;33m\u001b[0m\u001b[0m\n\u001b[0m\u001b[0;32m    426\u001b[0m         \u001b[1;32mif\u001b[0m \u001b[0mlen\u001b[0m\u001b[1;33m(\u001b[0m\u001b[0mscores\u001b[0m\u001b[1;33m.\u001b[0m\u001b[0mshape\u001b[0m\u001b[1;33m)\u001b[0m \u001b[1;33m==\u001b[0m \u001b[1;36m1\u001b[0m\u001b[1;33m:\u001b[0m\u001b[1;33m\u001b[0m\u001b[1;33m\u001b[0m\u001b[0m\n\u001b[0;32m    427\u001b[0m             \u001b[0mindices\u001b[0m \u001b[1;33m=\u001b[0m \u001b[1;33m(\u001b[0m\u001b[0mscores\u001b[0m \u001b[1;33m>\u001b[0m \u001b[1;36m0\u001b[0m\u001b[1;33m)\u001b[0m\u001b[1;33m.\u001b[0m\u001b[0mastype\u001b[0m\u001b[1;33m(\u001b[0m\u001b[0mint\u001b[0m\u001b[1;33m)\u001b[0m\u001b[1;33m\u001b[0m\u001b[1;33m\u001b[0m\u001b[0m\n",
      "\u001b[1;32mD:\\anaconda 3\\lib\\site-packages\\sklearn\\linear_model\\_base.py\u001b[0m in \u001b[0;36mdecision_function\u001b[1;34m(self, X)\u001b[0m\n\u001b[0;32m    405\u001b[0m         \u001b[0mcheck_is_fitted\u001b[0m\u001b[1;33m(\u001b[0m\u001b[0mself\u001b[0m\u001b[1;33m)\u001b[0m\u001b[1;33m\u001b[0m\u001b[1;33m\u001b[0m\u001b[0m\n\u001b[0;32m    406\u001b[0m \u001b[1;33m\u001b[0m\u001b[0m\n\u001b[1;32m--> 407\u001b[1;33m         \u001b[0mX\u001b[0m \u001b[1;33m=\u001b[0m \u001b[0mself\u001b[0m\u001b[1;33m.\u001b[0m\u001b[0m_validate_data\u001b[0m\u001b[1;33m(\u001b[0m\u001b[0mX\u001b[0m\u001b[1;33m,\u001b[0m \u001b[0maccept_sparse\u001b[0m\u001b[1;33m=\u001b[0m\u001b[1;34m\"csr\"\u001b[0m\u001b[1;33m,\u001b[0m \u001b[0mreset\u001b[0m\u001b[1;33m=\u001b[0m\u001b[1;32mFalse\u001b[0m\u001b[1;33m)\u001b[0m\u001b[1;33m\u001b[0m\u001b[1;33m\u001b[0m\u001b[0m\n\u001b[0m\u001b[0;32m    408\u001b[0m         \u001b[0mscores\u001b[0m \u001b[1;33m=\u001b[0m \u001b[0msafe_sparse_dot\u001b[0m\u001b[1;33m(\u001b[0m\u001b[0mX\u001b[0m\u001b[1;33m,\u001b[0m \u001b[0mself\u001b[0m\u001b[1;33m.\u001b[0m\u001b[0mcoef_\u001b[0m\u001b[1;33m.\u001b[0m\u001b[0mT\u001b[0m\u001b[1;33m,\u001b[0m \u001b[0mdense_output\u001b[0m\u001b[1;33m=\u001b[0m\u001b[1;32mTrue\u001b[0m\u001b[1;33m)\u001b[0m \u001b[1;33m+\u001b[0m \u001b[0mself\u001b[0m\u001b[1;33m.\u001b[0m\u001b[0mintercept_\u001b[0m\u001b[1;33m\u001b[0m\u001b[1;33m\u001b[0m\u001b[0m\n\u001b[0;32m    409\u001b[0m         \u001b[1;32mreturn\u001b[0m \u001b[0mscores\u001b[0m\u001b[1;33m.\u001b[0m\u001b[0mravel\u001b[0m\u001b[1;33m(\u001b[0m\u001b[1;33m)\u001b[0m \u001b[1;32mif\u001b[0m \u001b[0mscores\u001b[0m\u001b[1;33m.\u001b[0m\u001b[0mshape\u001b[0m\u001b[1;33m[\u001b[0m\u001b[1;36m1\u001b[0m\u001b[1;33m]\u001b[0m \u001b[1;33m==\u001b[0m \u001b[1;36m1\u001b[0m \u001b[1;32melse\u001b[0m \u001b[0mscores\u001b[0m\u001b[1;33m\u001b[0m\u001b[1;33m\u001b[0m\u001b[0m\n",
      "\u001b[1;32mD:\\anaconda 3\\lib\\site-packages\\sklearn\\base.py\u001b[0m in \u001b[0;36m_validate_data\u001b[1;34m(self, X, y, reset, validate_separately, **check_params)\u001b[0m\n\u001b[0;32m    583\u001b[0m \u001b[1;33m\u001b[0m\u001b[0m\n\u001b[0;32m    584\u001b[0m         \u001b[1;32mif\u001b[0m \u001b[1;32mnot\u001b[0m \u001b[0mno_val_X\u001b[0m \u001b[1;32mand\u001b[0m \u001b[0mcheck_params\u001b[0m\u001b[1;33m.\u001b[0m\u001b[0mget\u001b[0m\u001b[1;33m(\u001b[0m\u001b[1;34m\"ensure_2d\"\u001b[0m\u001b[1;33m,\u001b[0m \u001b[1;32mTrue\u001b[0m\u001b[1;33m)\u001b[0m\u001b[1;33m:\u001b[0m\u001b[1;33m\u001b[0m\u001b[1;33m\u001b[0m\u001b[0m\n\u001b[1;32m--> 585\u001b[1;33m             \u001b[0mself\u001b[0m\u001b[1;33m.\u001b[0m\u001b[0m_check_n_features\u001b[0m\u001b[1;33m(\u001b[0m\u001b[0mX\u001b[0m\u001b[1;33m,\u001b[0m \u001b[0mreset\u001b[0m\u001b[1;33m=\u001b[0m\u001b[0mreset\u001b[0m\u001b[1;33m)\u001b[0m\u001b[1;33m\u001b[0m\u001b[1;33m\u001b[0m\u001b[0m\n\u001b[0m\u001b[0;32m    586\u001b[0m \u001b[1;33m\u001b[0m\u001b[0m\n\u001b[0;32m    587\u001b[0m         \u001b[1;32mreturn\u001b[0m \u001b[0mout\u001b[0m\u001b[1;33m\u001b[0m\u001b[1;33m\u001b[0m\u001b[0m\n",
      "\u001b[1;32mD:\\anaconda 3\\lib\\site-packages\\sklearn\\base.py\u001b[0m in \u001b[0;36m_check_n_features\u001b[1;34m(self, X, reset)\u001b[0m\n\u001b[0;32m    398\u001b[0m \u001b[1;33m\u001b[0m\u001b[0m\n\u001b[0;32m    399\u001b[0m         \u001b[1;32mif\u001b[0m \u001b[0mn_features\u001b[0m \u001b[1;33m!=\u001b[0m \u001b[0mself\u001b[0m\u001b[1;33m.\u001b[0m\u001b[0mn_features_in_\u001b[0m\u001b[1;33m:\u001b[0m\u001b[1;33m\u001b[0m\u001b[1;33m\u001b[0m\u001b[0m\n\u001b[1;32m--> 400\u001b[1;33m             raise ValueError(\n\u001b[0m\u001b[0;32m    401\u001b[0m                 \u001b[1;34mf\"X has {n_features} features, but {self.__class__.__name__} \"\u001b[0m\u001b[1;33m\u001b[0m\u001b[1;33m\u001b[0m\u001b[0m\n\u001b[0;32m    402\u001b[0m                 \u001b[1;34mf\"is expecting {self.n_features_in_} features as input.\"\u001b[0m\u001b[1;33m\u001b[0m\u001b[1;33m\u001b[0m\u001b[0m\n",
      "\u001b[1;31mValueError\u001b[0m: X has 11 features, but LogisticRegression is expecting 18 features as input."
     ]
    }
   ],
   "source": [
    "# Deploy the model to predict heart disease risk in new patients\n",
    "new_patient = pd.DataFrame({\n",
    "    'Age': [60],\n",
    "    'Sex': ['M'],\n",
    "    'ChestPainType': ['ATA'],\n",
    "    'RestingBP': [140],\n",
    "    'Cholesterol': [300],\n",
    "    'FastingBS': [1],\n",
    "    'RestingECG': ['Normal'],\n",
    "    'MaxHR': [120],\n",
    "    'ExerciseAngina': ['N'],\n",
    "    'Oldpeak': [2.0],\n",
    "    'ST_Slope': ['Flat']\n",
    "})\n",
    "\n",
    "new_patient['Sex'] = le.fit_transform(new_patient['Sex'])\n",
    "new_patient['ExerciseAngina'] = le.fit_transform(new_patient['ExerciseAngina'])\n",
    "new_patient = pd.get_dummies(new_patient, columns=['ChestPainType', 'RestingECG', 'ST_Slope'])\n",
    "new_patient[num_vars] = sc.transform(new_patient[num_vars])\n",
    "print(data.head())\n",
    "print(new_patient.head())\n",
    "risk = model.predict(new_patient)\n",
    "\n"
   ]
  },
  {
   "cell_type": "code",
   "execution_count": null,
   "id": "9cc51175",
   "metadata": {},
   "outputs": [],
   "source": []
  }
 ],
 "metadata": {
  "kernelspec": {
   "display_name": "Python 3 (ipykernel)",
   "language": "python",
   "name": "python3"
  },
  "language_info": {
   "codemirror_mode": {
    "name": "ipython",
    "version": 3
   },
   "file_extension": ".py",
   "mimetype": "text/x-python",
   "name": "python",
   "nbconvert_exporter": "python",
   "pygments_lexer": "ipython3",
   "version": "3.9.13"
  }
 },
 "nbformat": 4,
 "nbformat_minor": 5
}
